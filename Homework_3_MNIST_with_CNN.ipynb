{
  "nbformat": 4,
  "nbformat_minor": 0,
  "metadata": {
    "colab": {
      "name": "Homework 3: MNIST with CNN.ipynb",
      "version": "0.3.2",
      "provenance": [],
      "collapsed_sections": [],
      "include_colab_link": true
    },
    "kernelspec": {
      "name": "python3",
      "display_name": "Python 3"
    },
    "accelerator": "GPU"
  },
  "cells": [
    {
      "cell_type": "markdown",
      "metadata": {
        "id": "view-in-github",
        "colab_type": "text"
      },
      "source": [
        "<a href=\"https://colab.research.google.com/github/hieu-le-2412/ai-course/blob/master/Homework_3_MNIST_with_CNN.ipynb\" target=\"_parent\"><img src=\"https://colab.research.google.com/assets/colab-badge.svg\" alt=\"Open In Colab\"/></a>"
      ]
    },
    {
      "cell_type": "markdown",
      "metadata": {
        "id": "iQjHqsmTAVLU",
        "colab_type": "text"
      },
      "source": [
        "## Exercise 3\n",
        "In this exercise, you will try to improve MNIST to 99.8% accuracy or more using only a single convolutional layer and a single MaxPooling 2D. You should stop training once the accuracy goes above this amount. It should happen in less than 20 epochs, so it's ok to hard code the number of epochs for training, but your training must end once it hits the above metric. If it doesn't, then you'll need to redesign your layers.\n",
        "\n",
        "I've started the code for you -- you need to finish it!\n",
        "\n",
        "When 99.8% accuracy has been hit, you should print out the string \"Reached 99.8% accuracy so cancelling training!\"\n"
      ]
    },
    {
      "cell_type": "code",
      "metadata": {
        "id": "sfQRyaJWAIdg",
        "colab_type": "code",
        "outputId": "08546a14-570c-4685-c50a-94652343a0e1",
        "colab": {
          "base_uri": "https://localhost:8080/",
          "height": 34
        }
      },
      "source": [
        "import tensorflow as tf\n",
        "\n",
        "# YOUR CODE STARTS HERE\n",
        "from tensorflow import keras\n",
        "from keras import Sequential\n",
        "from keras.callbacks import Callback, ModelCheckpoint\n",
        "import pandas as pd\n",
        "import numpy as np\n",
        "from tensorflow.keras.layers import Dense, Conv2D, MaxPooling2D, Flatten\n",
        "from matplotlib import pyplot as plt\n",
        "from IPython.display import clear_output\n",
        "import datetime\n",
        "# YOUR CODE ENDS HERE\n"
      ],
      "execution_count": 0,
      "outputs": [
        {
          "output_type": "stream",
          "text": [
            "Using TensorFlow backend.\n"
          ],
          "name": "stderr"
        }
      ]
    },
    {
      "cell_type": "markdown",
      "metadata": {
        "id": "RPa6UsUhZL_B",
        "colab_type": "text"
      },
      "source": [
        "Load dataset"
      ]
    },
    {
      "cell_type": "code",
      "metadata": {
        "id": "aajXxZ_zZHl1",
        "colab_type": "code",
        "colab": {}
      },
      "source": [
        "mnist = tf.keras.datasets.mnist\n",
        "(training_images, training_labels), (test_images, test_labels) = mnist.load_data()\n",
        "# YOUR CODE STARTS HERE\n",
        "training_images=training_images.reshape(60000, 28, 28, 1)\n",
        "training_images=training_images / 255.0\n",
        "test_images = test_images.reshape(10000, 28, 28, 1)\n",
        "test_images=test_images/255.0\n",
        "# YOUR CODE ENDS HERE"
      ],
      "execution_count": 0,
      "outputs": []
    },
    {
      "cell_type": "code",
      "metadata": {
        "id": "NArJNChnbTX2",
        "colab_type": "code",
        "colab": {}
      },
      "source": [
        "\n",
        "class EarlyStopping(Callback):\n",
        "  def on_train_begin(self, logs={}):\n",
        "    self.i = 0\n",
        "    self.x = []\n",
        "    self.losses = []\n",
        "    self.val_losses = []\n",
        "    self.fig = plt.figure()\n",
        "    self.logs = []\n",
        "  \n",
        "  def on_train_batch_begin(self, batch, logs=None):\n",
        "    print('Training: batch {} begins at {}'.format(batch, datetime.datetime.now().time()))\n",
        "\n",
        "  def on_train_batch_end(self, batch, logs=None):\n",
        "    print('Training: batch {} ends at {}'.format(batch, datetime.datetime.now().time()))\n",
        "\n",
        "  def on_test_batch_begin(self, batch, logs=None):\n",
        "    print('Evaluating: batch {} begins at {}'.format(batch, datetime.datetime.now().time()))\n",
        "\n",
        "  def on_test_batch_end(self, batch, logs=None):\n",
        "    print('Evaluating: batch {} ends at {}'.format(batch, datetime.datetime.now().time()))\n",
        "  \n",
        "  def on_epoch_end(self, epoch, logs={}):\n",
        "    # YOUR CODE HERE\n",
        "    self.logs.append(logs)\n",
        "    self.x.append(self.i)\n",
        "    self.losses.append(logs.get('loss'))\n",
        "    self.val_losses.append(logs.get('val_loss'))\n",
        "    self.i += 1\n",
        "    clear_output(wait=True)\n",
        "    plt.plot(self.x, self.losses, label=\"loss\")\n",
        "    plt.plot(self.x, self.val_losses, label=\"val_loss\")\n",
        "    plt.legend()\n",
        "    plt.show();\n",
        "    \n",
        "    if(logs.get('acc')>0.998):\n",
        "      print(\"\\nReached 99.8% accuracy so cancelling training!\")\n",
        "      self.model.stop_training = True\n",
        "      \n",
        "early_stopping = EarlyStopping()"
      ],
      "execution_count": 0,
      "outputs": []
    },
    {
      "cell_type": "code",
      "metadata": {
        "id": "enc6QdGleFXe",
        "colab_type": "code",
        "colab": {}
      },
      "source": [
        ""
      ],
      "execution_count": 0,
      "outputs": []
    },
    {
      "cell_type": "code",
      "metadata": {
        "id": "A-j0G7t_ZRoH",
        "colab_type": "code",
        "outputId": "7bd5f895-c34c-4b14-e888-bc9e68c4f9b8",
        "colab": {
          "base_uri": "https://localhost:8080/",
          "height": 68
        }
      },
      "source": [
        "model = tf.keras.models.Sequential([\n",
        "    # YOUR CODE STARTS HERE\n",
        "    Conv2D(64, (3,3), activation='relu', input_shape=(28, 28, 1)),\n",
        "    MaxPooling2D(2, 2),  \n",
        "    Flatten(),\n",
        "    Dense(128, activation='relu'),\n",
        "    Dense(10, activation='softmax')\n",
        "    # YOUR CODE ENDS HERE\n",
        "])\n"
      ],
      "execution_count": 0,
      "outputs": [
        {
          "output_type": "stream",
          "text": [
            "WARNING:tensorflow:From /usr/local/lib/python3.6/dist-packages/tensorflow/python/ops/resource_variable_ops.py:435: colocate_with (from tensorflow.python.framework.ops) is deprecated and will be removed in a future version.\n",
            "Instructions for updating:\n",
            "Colocations handled automatically by placer.\n"
          ],
          "name": "stdout"
        }
      ]
    },
    {
      "cell_type": "code",
      "metadata": {
        "id": "vPuIiLzgZUu1",
        "colab_type": "code",
        "outputId": "cd469d66-fcbe-4e25-87be-3ac85c7d653b",
        "colab": {
          "base_uri": "https://localhost:8080/",
          "height": 337
        }
      },
      "source": [
        "\n",
        "# YOUR CODE STARTS HERE\n",
        "model.compile(optimizer='adam', loss='sparse_categorical_crossentropy', metrics=['accuracy'])\n",
        "model.summary()\n",
        "model.fit(training_images, training_labels, epochs=20, callbacks=[early_stopping])\n",
        "test_loss = model.evaluate(test_images, test_labels)\n",
        "# YOUR CODE ENDS HERE\n",
        "\n"
      ],
      "execution_count": 0,
      "outputs": [
        {
          "output_type": "display_data",
          "data": {
            "image/png": "[encoded data removed]",
            "text/plain": [
              "<Figure size 432x288 with 1 Axes>"
            ]
          },
          "metadata": {
            "tags": []
          }
        },
        {
          "output_type": "stream",
          "text": [
            "\n",
            "Reached 99.8% accuracy so cancelling training!\n",
            "60000/60000 [==============================] - 10s 171us/sample - loss: 0.0059 - acc: 0.9981\n",
            "10000/10000 [==============================] - 1s 59us/sample - loss: 0.0541 - acc: 0.9877\n"
          ],
          "name": "stdout"
        }
      ]
    },
    {
      "cell_type": "code",
      "metadata": {
        "id": "WdlyYp-_a9r2",
        "colab_type": "code",
        "colab": {}
      },
      "source": [
        ""
      ],
      "execution_count": 0,
      "outputs": []
    }
  ]
}